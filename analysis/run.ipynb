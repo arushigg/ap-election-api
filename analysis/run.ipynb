{
 "cells": [
  {
   "cell_type": "code",
   "execution_count": 1,
   "metadata": {},
   "outputs": [],
   "source": [
    "import client\n",
    "import _fields as _fields\n",
    "from param_schema import elections, election_reports, adv_turnout, delegates\n",
    "import os\n",
    "from datetime import datetime\n",
    "import requests\n",
    "import pandas as pd"
   ]
  },
  {
   "cell_type": "code",
   "execution_count": 2,
   "metadata": {},
   "outputs": [],
   "source": [
    "# Load the API key from the .env file in the project\n",
    "API_KEY = os.environ.get(\"API_KEY\")"
   ]
  },
  {
   "cell_type": "code",
   "execution_count": 3,
   "metadata": {},
   "outputs": [
    {
     "data": {
      "text/plain": [
       "{'x-api-key': '7w19fsxe1xx1kdzos78ee3tmxa',\n",
       " 'Accept-Encoding': 'gzip',\n",
       " 'Accept': 'application/json'}"
      ]
     },
     "execution_count": 3,
     "metadata": {},
     "output_type": "execute_result"
    }
   ],
   "source": [
    "# Create an instance of the client class, specifying the format you want to receive\n",
    "# responses in (JSON or XML)\n",
    "c = client.APIClient(API_KEY, format=_fields.Format.JSON)\n",
    "\n",
    "# The request headers don't change across requests\n",
    "c.headers"
   ]
  },
  {
   "cell_type": "code",
   "execution_count": 4,
   "metadata": {},
   "outputs": [
    {
     "name": "stdout",
     "output_type": "stream",
     "text": [
      "https://api.ap.org/v2/elections/2012-11-06\n",
      "{'statePostal': 'ME', 'level': 'district'}\n",
      "https://api.ap.org/v2/elections/2012-11-06?statePostal=ME&level=district\n"
     ]
    }
   ],
   "source": [
    "# Define the parameters of your request -- each of the four data types has a different \n",
    "# class and each field has an enum with all the options\n",
    "params = elections.ElectionParameters(\n",
    "    version=_fields.Version.V2,\n",
    "    election_date=datetime(2012, 11, 6),\n",
    "    state=_fields.State.ME,\n",
    "    level=_fields.Level.DISTRICT\n",
    ")\n",
    "\n",
    "# The properties of the class include the request URLs\n",
    "print(params.base_url)\n",
    "print(params.optional_param_dict)\n",
    "print(params.full_url)"
   ]
  },
  {
   "cell_type": "code",
   "execution_count": 7,
   "metadata": {},
   "outputs": [
    {
     "data": {
      "text/plain": [
       "{'electionDate': '2012-11-06',\n",
       " 'timestamp': '2024-07-17T23:09:23.531Z',\n",
       " 'races': [],\n",
       " 'nextrequest': 'https://api.ap.org/v2/elections/2012-11-06?level=district&statepostal=ME&minDateTime=2016-09-13T14%3a20%3a29.497Z'}"
      ]
     },
     "execution_count": 7,
     "metadata": {},
     "output_type": "execute_result"
    }
   ],
   "source": [
    "# To request a response, use the query method\n",
    "resp = c.query(params)\n",
    "\n",
    "resp[0].response"
   ]
  }
 ],
 "metadata": {
  "kernelspec": {
   "display_name": ".venv",
   "language": "python",
   "name": "python3"
  },
  "language_info": {
   "codemirror_mode": {
    "name": "ipython",
    "version": 3
   },
   "file_extension": ".py",
   "mimetype": "text/x-python",
   "name": "python",
   "nbconvert_exporter": "python",
   "pygments_lexer": "ipython3",
   "version": "3.9.11"
  }
 },
 "nbformat": 4,
 "nbformat_minor": 2
}
